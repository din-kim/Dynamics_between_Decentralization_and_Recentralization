{
 "cells": [
  {
   "cell_type": "code",
   "execution_count": null,
   "id": "1602d929",
   "metadata": {},
   "outputs": [],
   "source": [
    "# Import Classes\n",
    "import random\n",
    "from Reality import *\n",
    "from Organization import *\n",
    "from User import *\n",
    "from functions import *\n",
    "\n",
    "# Import libraries\n",
    "import numpy as np\n",
    "import matplotlib.pyplot as plt\n",
    "import seaborn as sns\n",
    "%matplotlib inline\n",
    "np.set_printoptions(4)\n",
    "random.seed(101)"
   ]
  },
  {
   "cell_type": "code",
   "execution_count": null,
   "id": "eab565f8",
   "metadata": {},
   "outputs": [],
   "source": [
    "\"\"\"\n",
    "Variables\n",
    "- rds: rounds\n",
    "- v: vote targets\n",
    "- m : number of attributes\n",
    "- n_u : number of users\n",
    "- n_o : number of organizations\n",
    "- k : degree of interdependence\n",
    "- p : participation rate\n",
    "- t : total number of tokens\n",
    "- dr: distribution rate of tokens\n",
    "\"\"\"\n",
    "\n",
    "rds = 50\n",
    "v = 10\n",
    "m = 100\n",
    "n_u = 100\n",
    "n_o = 50\n",
    "k = 0\n",
    "p = 1 #random.uniform(0,1)\n",
    "t = 10000\n",
    "dr = 1\n"
   ]
  },
  {
   "cell_type": "code",
   "execution_count": null,
   "id": "74c16fe3",
   "metadata": {},
   "outputs": [],
   "source": [
    "# Initiate Reality \n",
    "reality = Reality(m)\n",
    "\n",
    "# Initiate Organization\n",
    "orgs = []\n",
    "for i in range(n_o):\n",
    "    globals()['org{}'.format(i)] = Organization(m, reality)\n",
    "    orgs.append(globals()['org{}'.format(i)])    "
   ]
  },
  {
   "cell_type": "code",
   "execution_count": null,
   "id": "ab0e6b18",
   "metadata": {},
   "outputs": [],
   "source": [
    "# Create empty info list\n",
    "votes_fn = []\n",
    "deles_fn = []\n",
    "dele_cnt_fn = []\n",
    "parts_fn =[]\n",
    "    \n",
    "for organization in orgs:\n",
    "    # Initiate Users\n",
    "    tokens = list(distribute_tokens(n_u, t, dr))\n",
    "    ids = list(range(n_u))\n",
    "\n",
    "    users = []\n",
    "    for i in range(n_u):\n",
    "        globals()['user{}'.format(i)] = User(m, k, p, organization, ids, tokens)\n",
    "        users.append(globals()['user{}'.format(i)])\n",
    "   \n",
    "    # Create empty info list\n",
    "    votes = []\n",
    "    deles = []\n",
    "    dele_cnt = []\n",
    "    parts =[]\n",
    "    knows = []\n",
    "    perfs = []\n",
    "\n",
    "    # Initiate Vote\n",
    "    for rd in range(rds):\n",
    "        vote_list = generate_vote_list(m, v)\n",
    "        vs, ds, dc, ps, kns, pfs = vote_handler(reality, organization, users, vote_list)\n",
    "        votes.append(vs)\n",
    "        deles.append(ds)\n",
    "        dele_cnt.append(dc)\n",
    "        parts.append(ps)\n",
    "        knows.append(kns)\n",
    "        perfs.append(pfs)\n",
    "\n",
    "    votes_fn.append(votes)\n",
    "    deles_fn.append(deles)\n",
    "    dele_cnt_fn.append(dele_cnt)"
   ]
  },
  {
   "cell_type": "code",
   "execution_count": null,
   "id": "eae96bc7",
   "metadata": {},
   "outputs": [],
   "source": [
    "vr = mean_vote_result(votes_fn, n_o)\n",
    "dr = mean_vote_result(deles_fn, n_o)\n",
    "kr = mean_know_perf_part_result(knows)\n",
    "pr = mean_know_perf_part_result(perfs)\n",
    "pa = mean_know_perf_part_result(parts)"
   ]
  },
  {
   "cell_type": "code",
   "execution_count": null,
   "id": "714fdb74",
   "metadata": {},
   "outputs": [],
   "source": [
    "plot_vote_dele_result(vr,dr)"
   ]
  },
  {
   "cell_type": "code",
   "execution_count": null,
   "id": "ba981cea",
   "metadata": {},
   "outputs": [],
   "source": [
    "plot_know_perf_result(kr,pr)"
   ]
  },
  {
   "cell_type": "code",
   "execution_count": null,
   "id": "a66bfdea",
   "metadata": {},
   "outputs": [],
   "source": [
    "plot_part_res(pa, n_u)"
   ]
  }
 ],
 "metadata": {
  "kernelspec": {
   "display_name": "Python 3",
   "language": "python",
   "name": "python3"
  },
  "language_info": {
   "codemirror_mode": {
    "name": "ipython",
    "version": 3
   },
   "file_extension": ".py",
   "mimetype": "text/x-python",
   "name": "python",
   "nbconvert_exporter": "python",
   "pygments_lexer": "ipython3",
   "version": "3.8.8"
  }
 },
 "nbformat": 4,
 "nbformat_minor": 5
}
