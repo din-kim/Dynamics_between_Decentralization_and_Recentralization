{
 "cells": [
  {
   "cell_type": "code",
   "execution_count": null,
   "id": "1602d929",
   "metadata": {},
   "outputs": [],
   "source": [
    "# Import Classes\n",
    "import random\n",
    "from Reality import *\n",
    "from Organization import *\n",
    "from User import *\n",
    "from functions import *\n",
    "from generators import * \n",
    "\n",
    "# Import libraries\n",
    "import numpy as np\n",
    "import matplotlib.pyplot as plt\n",
    "%matplotlib inline\n",
    "np.set_printoptions(4)\n",
    "random.seed(101)"
   ]
  },
  {
   "cell_type": "code",
   "execution_count": null,
   "id": "eab565f8",
   "metadata": {},
   "outputs": [],
   "source": [
    "\"\"\"\n",
    "Variables\n",
    "- rds: rounds\n",
    "- v: vote targets\n",
    "- m : number of attributes\n",
    "- n_u : number of users\n",
    "- n_o : number of organizations\n",
    "- k : degree of interdependence\n",
    "- p : participation rate\n",
    "- t : total number of tokens\n",
    "- dr: distribution rate of tokens\n",
    "\"\"\"\n",
    "\n",
    "rds = 5\n",
    "v = 2\n",
    "m = 100\n",
    "n_u = 10\n",
    "n_o = 3\n",
    "n_l = 0\n",
    "k = 10\n",
    "p = 1 #random.uniform(0,1)\n",
    "t = 10000\n",
    "dr = 1"
   ]
  },
  {
   "cell_type": "code",
   "execution_count": null,
   "id": "74c16fe3",
   "metadata": {},
   "outputs": [],
   "source": [
    "# Initiate Reality \n",
    "reality = generate_reality(m)\n",
    "\n",
    "# Initiate Organizations\n",
    "organizations = generate_organizations(m, reality, n_o)\n",
    "\n",
    "# Initiate Organization\n",
    "users, leaders = generate_users(reality, organizations, n_u, n_l, m, k, p, t, dr)"
   ]
  },
  {
   "cell_type": "code",
   "execution_count": null,
   "id": "03d709e6",
   "metadata": {},
   "outputs": [],
   "source": [
    "run_model(reality, organizations, users, leaders, 'random', m, rds, v)"
   ]
  },
  {
   "cell_type": "code",
   "execution_count": null,
   "id": "eae96bc7",
   "metadata": {},
   "outputs": [],
   "source": [
    "vr = mean_result(votes_fn, n_o)\n",
    "dr = mean_result(deles_fn, n_o)\n",
    "kr = mean_result(knows_fn, n_o)\n",
    "pr = mean_result(perfs_fn, n_o)\n",
    "pa = mean_result(parts_fn, n_o)"
   ]
  },
  {
   "cell_type": "code",
   "execution_count": null,
   "id": "714fdb74",
   "metadata": {},
   "outputs": [],
   "source": [
    "plot_vote_dele_result(vr,dr)"
   ]
  },
  {
   "cell_type": "code",
   "execution_count": null,
   "id": "ba981cea",
   "metadata": {},
   "outputs": [],
   "source": [
    "plot_know_perf_result(kr,pr)"
   ]
  },
  {
   "cell_type": "code",
   "execution_count": null,
   "id": "a66bfdea",
   "metadata": {},
   "outputs": [],
   "source": [
    "plot_part_res(pa, n_u)"
   ]
  }
 ],
 "metadata": {
  "kernelspec": {
   "display_name": "Python 3",
   "language": "python",
   "name": "python3"
  },
  "language_info": {
   "codemirror_mode": {
    "name": "ipython",
    "version": 3
   },
   "file_extension": ".py",
   "mimetype": "text/x-python",
   "name": "python",
   "nbconvert_exporter": "python",
   "pygments_lexer": "ipython3",
   "version": "3.8.8"
  }
 },
 "nbformat": 4,
 "nbformat_minor": 5
}
